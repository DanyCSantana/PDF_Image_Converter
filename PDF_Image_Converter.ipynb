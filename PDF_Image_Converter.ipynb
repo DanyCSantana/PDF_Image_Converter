{
 "cells": [
  {
   "cell_type": "code",
   "execution_count": 6,
   "id": "f0da9700-0265-4139-8913-a678831b0fb6",
   "metadata": {},
   "outputs": [
    {
     "name": "stdout",
     "output_type": "stream",
     "text": [
      "Collecting pymupdf\n",
      "  Downloading pymupdf-1.26.3-cp39-abi3-win_amd64.whl.metadata (3.4 kB)\n",
      "Requirement already satisfied: pillow in c:\\users\\danyella.santana\\appdata\\local\\anaconda3\\lib\\site-packages (11.1.0)\n",
      "Downloading pymupdf-1.26.3-cp39-abi3-win_amd64.whl (18.7 MB)\n",
      "   ---------------------------------------- 0.0/18.7 MB ? eta -:--:--\n",
      "   ------------------ --------------------- 8.7/18.7 MB 48.3 MB/s eta 0:00:01\n",
      "   ---------------------------------------  18.6/18.7 MB 45.0 MB/s eta 0:00:01\n",
      "   ---------------------------------------- 18.7/18.7 MB 40.1 MB/s eta 0:00:00\n",
      "Installing collected packages: pymupdf\n",
      "Successfully installed pymupdf-1.26.3\n"
     ]
    }
   ],
   "source": [
    "!pip install pymupdf pillow"
   ]
  },
  {
   "cell_type": "code",
   "execution_count": 15,
   "id": "d5c3bbe6-5cea-400a-b5bd-8023353b8471",
   "metadata": {},
   "outputs": [
    {
     "name": "stdout",
     "output_type": "stream",
     "text": [
      "✨ Welcome to the PDF to Resized Images Converter! ✨\n",
      "Let's turn your PDFs into beautifully resized images.\n",
      "\n"
     ]
    },
    {
     "name": "stdin",
     "output_type": "stream",
     "text": [
      "📂 Enter the path to the folder containing PDFs:  Z:\\4_Metadata\\Uganda Airlines - UR\\2025\\1025\\RAVE\\Magazines\n",
      "📂 Enter the path where resized images should be saved:  Z:\\4_Metadata\\Uganda Airlines - UR\\2025\\1025\\RAVE\\Magazines\n"
     ]
    },
    {
     "name": "stdout",
     "output_type": "stream",
     "text": [
      "\n",
      "🎨 Now, let's define your target image sizes.\n"
     ]
    },
    {
     "name": "stdin",
     "output_type": "stream",
     "text": [
      "➡️ Enter size (WIDTHxHEIGHT) or 0 to finish:  600x800\n"
     ]
    },
    {
     "name": "stdout",
     "output_type": "stream",
     "text": [
      "✅ Added size: 600x800\n",
      "\n"
     ]
    },
    {
     "name": "stdin",
     "output_type": "stream",
     "text": [
      "➡️ Enter size (WIDTHxHEIGHT) or 0 to finish:  0\n"
     ]
    },
    {
     "name": "stdout",
     "output_type": "stream",
     "text": [
      "✅ PDFs converted & saved into separate folders with size suffix in filename!\n"
     ]
    }
   ],
   "source": [
    "import os\n",
    "from pathlib import Path\n",
    "import fitz  # PyMuPDF\n",
    "from PIL import Image\n",
    "\n",
    "#  Welcome message\n",
    "print(\"✨ Welcome to the PDF to Resized Images Converter! ✨\")\n",
    "print(\"Let's turn your PDFs into resized images.\\n\")\n",
    "\n",
    "# ---------------------------\n",
    "# 📁 Ask user for paths\n",
    "# ---------------------------\n",
    "input_folder = input(\"📂 Enter the path to the folder containing PDFs: \").strip()\n",
    "base_output = input(\"📂 Enter the path where resized images should be saved: \").strip()\n",
    "\n",
    "# ---------------------------\n",
    "# 🎨 Ask user for target sizes\n",
    "# ---------------------------\n",
    "sizes = {}\n",
    "print(\"\\n🎨 Now, let's define your target image sizes.\")\n",
    "while True:\n",
    "    size_input = input(\"➡️ Enter size (WIDTHxHEIGHT) or 0 to finish: \").strip()\n",
    "    if size_input == \"0\":\n",
    "        break\n",
    "    try:\n",
    "        width, height = map(int, size_input.lower().split('x'))\n",
    "        folder_name = f\"{width}x{height}\"\n",
    "        sizes[(width, height)] = folder_name\n",
    "        print(f\"✅ Added size: {folder_name}\\n\")\n",
    "    except ValueError:\n",
    "        print(\"⚠️ Please enter a valid size in the format WIDTHxHEIGHT (e.g., 200x200).\\n\")\n",
    "\n",
    "if not sizes:\n",
    "    print(\"❌ No sizes defined. Exiting.\")\n",
    "    exit()\n",
    "\n",
    "# ---------------------------\n",
    "# 🛠️ Make sure all output folders exist\n",
    "# ---------------------------\n",
    "for folder in sizes.values():\n",
    "    os.makedirs(os.path.join(base_output, folder), exist_ok=True)\n",
    "\n",
    "# ---------------------------\n",
    "# 🔧 Crop & resize function\n",
    "# ---------------------------\n",
    "def crop_center_resize(img, target_size):\n",
    "    \"\"\"Crop image to keep aspect ratio then resize to target size.\"\"\"\n",
    "    target_w, target_h = target_size\n",
    "    img_ratio = img.width / img.height\n",
    "    target_ratio = target_w / target_h\n",
    "\n",
    "    if img_ratio > target_ratio:  \n",
    "        new_width = int(img.height * target_ratio)\n",
    "        left = (img.width - new_width) // 2\n",
    "        img = img.crop((left, 0, left + new_width, img.height))\n",
    "    else:\n",
    "        new_height = int(img.width / target_ratio)\n",
    "        top = (img.height - new_height) // 2\n",
    "        img = img.crop((0, top, img.width, top + new_height))\n",
    "\n",
    "    return img.resize((target_w, target_h), Image.LANCZOS)\n",
    "\n",
    "# ---------------------------\n",
    "# 📄 Process PDFs\n",
    "# ---------------------------\n",
    "for file in os.listdir(input_folder):\n",
    "    if file.lower().endswith(\".pdf\"):\n",
    "        pdf_path = os.path.join(input_folder, file)\n",
    "        doc = fitz.open(pdf_path)\n",
    "\n",
    "        if len(doc) == 0:\n",
    "            continue\n",
    "\n",
    "        # Render first page\n",
    "        page = doc[0]\n",
    "        pix = page.get_pixmap(dpi=200)\n",
    "        img = Image.frombytes(\"RGB\", [pix.width, pix.height], pix.samples)\n",
    "\n",
    "        base_name = Path(file).stem\n",
    "\n",
    "        # Save each size into its own folder, with dimensions in filename\n",
    "        for size, folder in sizes.items():\n",
    "            resized_img = crop_center_resize(img, size)\n",
    "            w, h = size\n",
    "            out_path = os.path.join(base_output, folder, f\"{base_name}_{w}x{h}.jpg\")\n",
    "            resized_img.save(out_path, \"JPEG\", quality=90)\n",
    "\n",
    "print(\"✅ PDFs converted & saved into separate folders with size suffix in filename!\")\n"
   ]
  },
  {
   "cell_type": "code",
   "execution_count": null,
   "id": "3e157461-0cb3-4b81-8e8c-3557feac6e42",
   "metadata": {},
   "outputs": [],
   "source": []
  }
 ],
 "metadata": {
  "kernelspec": {
   "display_name": "Python 3 (ipykernel)",
   "language": "python",
   "name": "python3"
  },
  "language_info": {
   "codemirror_mode": {
    "name": "ipython",
    "version": 3
   },
   "file_extension": ".py",
   "mimetype": "text/x-python",
   "name": "python",
   "nbconvert_exporter": "python",
   "pygments_lexer": "ipython3",
   "version": "3.13.5"
  }
 },
 "nbformat": 4,
 "nbformat_minor": 5
}
